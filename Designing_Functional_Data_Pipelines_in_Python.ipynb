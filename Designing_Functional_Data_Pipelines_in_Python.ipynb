{
 "cells": [
  {
   "cell_type": "markdown",
   "metadata": {
    "id": "nOyYBbvRwx-t"
   },
   "source": [
    "# Functional Design Patterns in Python"
   ]
  },
  {
   "cell_type": "markdown",
   "metadata": {
    "id": "vmd0ItJfjMva"
   },
   "source": [
    "## Immutable Data Structures"
   ]
  },
  {
   "cell_type": "markdown",
   "metadata": {
    "id": "YET1rX9Zd-W3"
   },
   "source": [
    "### Tuple vs List"
   ]
  },
  {
   "cell_type": "code",
   "execution_count": 1,
   "metadata": {
    "colab": {
     "base_uri": "https://localhost:8080/"
    },
    "id": "jB6VLN3Vclx7",
    "outputId": "5b7d551d-8e89-49e8-a280-c6a4e092207c"
   },
   "outputs": [
    {
     "name": "stdout",
     "output_type": "stream",
     "text": [
      "[4, 2, 3]\n"
     ]
    }
   ],
   "source": [
    "num_list = [1,2,3]\n",
    "num_list[0] = 4\n",
    "print(num_list)"
   ]
  },
  {
   "cell_type": "code",
   "execution_count": 2,
   "metadata": {
    "colab": {
     "base_uri": "https://localhost:8080/",
     "height": 183
    },
    "id": "esBnFnZ-AN0P",
    "outputId": "796e5392-dbb9-484f-a116-d8a1b1ca3a2e"
   },
   "outputs": [
    {
     "ename": "TypeError",
     "evalue": "'tuple' object does not support item assignment",
     "output_type": "error",
     "traceback": [
      "\u001b[1;31m---------------------------------------------------------------------------\u001b[0m",
      "\u001b[1;31mTypeError\u001b[0m                                 Traceback (most recent call last)",
      "\u001b[1;32m~\\AppData\\Local\\Temp/ipykernel_23960/1701063008.py\u001b[0m in \u001b[0;36m<module>\u001b[1;34m\u001b[0m\n\u001b[0;32m      1\u001b[0m \u001b[0mnum_tuple\u001b[0m \u001b[1;33m=\u001b[0m \u001b[1;33m(\u001b[0m\u001b[1;36m1\u001b[0m\u001b[1;33m,\u001b[0m\u001b[1;36m2\u001b[0m\u001b[1;33m,\u001b[0m\u001b[1;36m3\u001b[0m\u001b[1;33m)\u001b[0m\u001b[1;33m\u001b[0m\u001b[1;33m\u001b[0m\u001b[0m\n\u001b[1;32m----> 2\u001b[1;33m \u001b[0mnum_tuple\u001b[0m\u001b[1;33m[\u001b[0m\u001b[1;36m0\u001b[0m\u001b[1;33m]\u001b[0m \u001b[1;33m=\u001b[0m \u001b[1;36m4\u001b[0m\u001b[1;33m\u001b[0m\u001b[1;33m\u001b[0m\u001b[0m\n\u001b[0m",
      "\u001b[1;31mTypeError\u001b[0m: 'tuple' object does not support item assignment"
     ]
    }
   ],
   "source": [
    "num_tuple = (1,2,3)\n",
    "num_tuple[0] = 4"
   ]
  },
  {
   "cell_type": "markdown",
   "metadata": {
    "id": "waRWVzF_eCOD"
   },
   "source": [
    "### Namedtuple vs Class vs Dict"
   ]
  },
  {
   "cell_type": "code",
   "execution_count": 3,
   "metadata": {
    "colab": {
     "base_uri": "https://localhost:8080/"
    },
    "id": "SkoywQ7DcviI",
    "outputId": "69c1aa84-5a59-4b1e-fe41-8ffe603643ed"
   },
   "outputs": [
    {
     "name": "stdout",
     "output_type": "stream",
     "text": [
      "x = 1, y = 2\n",
      "x = 3, y = 2\n"
     ]
    }
   ],
   "source": [
    "class Point:\n",
    "  def __init__(self, x, y):\n",
    "    self.x = x\n",
    "    self.y = y\n",
    "\n",
    "point = Point(1,2)\n",
    "print(f\"x = {point.x}, y = {point.y}\")\n",
    "point.x = 3\n",
    "print(f\"x = {point.x}, y = {point.y}\")"
   ]
  },
  {
   "cell_type": "code",
   "execution_count": 4,
   "metadata": {
    "colab": {
     "base_uri": "https://localhost:8080/"
    },
    "id": "CLnXt_BddhSZ",
    "outputId": "1ee20f14-6af3-498f-bf55-51f9bb57e5da"
   },
   "outputs": [
    {
     "name": "stdout",
     "output_type": "stream",
     "text": [
      "{'x': 1, 'y': 2}\n",
      "{'x': 3, 'y': 2}\n"
     ]
    }
   ],
   "source": [
    "point = {\"x\": 1, \"y\": 2}\n",
    "print(point)\n",
    "point[\"x\"] = 3\n",
    "print(point)"
   ]
  },
  {
   "cell_type": "code",
   "execution_count": 5,
   "metadata": {
    "colab": {
     "base_uri": "https://localhost:8080/",
     "height": 217
    },
    "id": "Kic8uOSHeT5K",
    "outputId": "bc5ff68b-d37d-470c-9a87-9ab14629f850"
   },
   "outputs": [
    {
     "name": "stdout",
     "output_type": "stream",
     "text": [
      "x = 1, y = 2\n"
     ]
    },
    {
     "ename": "AttributeError",
     "evalue": "can't set attribute",
     "output_type": "error",
     "traceback": [
      "\u001b[1;31m---------------------------------------------------------------------------\u001b[0m",
      "\u001b[1;31mAttributeError\u001b[0m                            Traceback (most recent call last)",
      "\u001b[1;32m~\\AppData\\Local\\Temp/ipykernel_23960/2393710690.py\u001b[0m in \u001b[0;36m<module>\u001b[1;34m\u001b[0m\n\u001b[0;32m      4\u001b[0m \u001b[0mpoint\u001b[0m \u001b[1;33m=\u001b[0m \u001b[0mPoint\u001b[0m\u001b[1;33m(\u001b[0m\u001b[1;36m1\u001b[0m\u001b[1;33m,\u001b[0m\u001b[1;36m2\u001b[0m\u001b[1;33m)\u001b[0m\u001b[1;33m\u001b[0m\u001b[1;33m\u001b[0m\u001b[0m\n\u001b[0;32m      5\u001b[0m \u001b[0mprint\u001b[0m\u001b[1;33m(\u001b[0m\u001b[1;34mf\"x = {point.x}, y = {point.y}\"\u001b[0m\u001b[1;33m)\u001b[0m\u001b[1;33m\u001b[0m\u001b[1;33m\u001b[0m\u001b[0m\n\u001b[1;32m----> 6\u001b[1;33m \u001b[0mpoint\u001b[0m\u001b[1;33m.\u001b[0m\u001b[0mx\u001b[0m \u001b[1;33m=\u001b[0m \u001b[1;36m3\u001b[0m\u001b[1;33m\u001b[0m\u001b[1;33m\u001b[0m\u001b[0m\n\u001b[0m",
      "\u001b[1;31mAttributeError\u001b[0m: can't set attribute"
     ]
    }
   ],
   "source": [
    "from collections import namedtuple\n",
    "\n",
    "Point = namedtuple('Point', ['x', 'y'])\n",
    "point = Point(1,2)\n",
    "print(f\"x = {point.x}, y = {point.y}\")\n",
    "point.x = 3"
   ]
  },
  {
   "cell_type": "markdown",
   "metadata": {
    "id": "t5p1WDlBihVV"
   },
   "source": [
    "Note: Using `._replace` method in namedtuple creates a new `Point` namedtuple instance without replacing the original instance."
   ]
  },
  {
   "cell_type": "code",
   "execution_count": 6,
   "metadata": {
    "colab": {
     "base_uri": "https://localhost:8080/"
    },
    "id": "XDGk5UXfhmUN",
    "outputId": "743afc75-546c-462e-a030-bd0d9e8d4fc9"
   },
   "outputs": [
    {
     "data": {
      "text/plain": [
       "Point(x=3, y=2)"
      ]
     },
     "execution_count": 6,
     "metadata": {},
     "output_type": "execute_result"
    }
   ],
   "source": [
    "point._replace(x=3)"
   ]
  },
  {
   "cell_type": "code",
   "execution_count": 7,
   "metadata": {
    "colab": {
     "base_uri": "https://localhost:8080/"
    },
    "id": "CqKzYOqYibid",
    "outputId": "8c94b8ae-cb97-483d-b3ed-4ca9fb41851d"
   },
   "outputs": [
    {
     "data": {
      "text/plain": [
       "Point(x=1, y=2)"
      ]
     },
     "execution_count": 7,
     "metadata": {},
     "output_type": "execute_result"
    }
   ],
   "source": [
    "point"
   ]
  },
  {
   "cell_type": "markdown",
   "metadata": {
    "id": "I2E89DYtsRgQ"
   },
   "source": [
    "## Structural Pattern Matching with Dataclasses (Python equivalent of Scala case classes)"
   ]
  },
  {
   "cell_type": "code",
   "execution_count": 8,
   "metadata": {
    "colab": {
     "base_uri": "https://localhost:8080/"
    },
    "id": "KQzfkzUAiciN",
    "outputId": "5318145c-6ab2-46f2-e44e-977e7b2bd4f5"
   },
   "outputs": [],
   "source": [
    "from dataclasses import dataclass\n",
    "\n",
    "@dataclass(frozen='true')\n",
    "class InventoryItem:\n",
    "  item_name: str\n",
    "  unit_price: float\n",
    "  quantity: int = 0\n",
    "\n",
    "@dataclass(frozen='true')\n",
    "class SaleItem:\n",
    "  item_name: str\n",
    "  unit_price: float\n",
    "  discount: float = 5.0\n",
    "\n",
    "def get_greeting(request=None):\n",
    "  match request:\n",
    "    case InventoryItem(item_name, unit_price, quantity):\n",
    "      return f\"Inventory: {quantity} {item_name} at unit cost ${unit_price}\"\n",
    "    case SaleItem(item_name, unit_price, discount):\n",
    "      return f\"Selling {item_name} at ${unit_price * (100.0 - discount) / 100.0:.2f}\"\n",
    "    case _:\n",
    "      return \"Welcome to Uniqlo!\""
   ]
  },
  {
   "cell_type": "code",
   "execution_count": 9,
   "metadata": {},
   "outputs": [
    {
     "data": {
      "text/plain": [
       "'Welcome to Uniqlo!'"
      ]
     },
     "execution_count": 9,
     "metadata": {},
     "output_type": "execute_result"
    }
   ],
   "source": [
    "get_greeting()"
   ]
  },
  {
   "cell_type": "code",
   "execution_count": 10,
   "metadata": {},
   "outputs": [
    {
     "data": {
      "text/plain": [
       "'Inventory: 300 pants at unit cost $20'"
      ]
     },
     "execution_count": 10,
     "metadata": {},
     "output_type": "execute_result"
    }
   ],
   "source": [
    "get_greeting(InventoryItem(\"pants\", 20, 300))"
   ]
  },
  {
   "cell_type": "code",
   "execution_count": 11,
   "metadata": {},
   "outputs": [
    {
     "data": {
      "text/plain": [
       "'Selling pants at $42.50'"
      ]
     },
     "execution_count": 11,
     "metadata": {},
     "output_type": "execute_result"
    }
   ],
   "source": [
    "get_greeting(SaleItem(\"pants\", 50, 15))"
   ]
  },
  {
   "cell_type": "markdown",
   "metadata": {
    "id": "4EYrPlSO6mmj"
   },
   "source": [
    "## Type Hints and Type Checking"
   ]
  },
  {
   "cell_type": "markdown",
   "metadata": {
    "id": "VbS22BTECPDk"
   },
   "source": [
    "Install mypy on Google colab (source: https://stackoverflow.com/questions/63142182/to-what-extent-does-google-colab-support-python-typing)"
   ]
  },
  {
   "cell_type": "code",
   "execution_count": 12,
   "metadata": {
    "colab": {
     "base_uri": "https://localhost:8080/"
    },
    "id": "uEjYjtroCN_R",
    "outputId": "5317d4cb-3639-40ff-e63d-b8b918dc95f2"
   },
   "outputs": [
    {
     "name": "stdout",
     "output_type": "stream",
     "text": [
      "Requirement already satisfied: mypy in c:\\users\\chinhwee\\anaconda3\\envs\\python3.10\\lib\\site-packages (0.910)\n",
      "Requirement already satisfied: typing-extensions>=3.7.4 in c:\\users\\chinhwee\\anaconda3\\envs\\python3.10\\lib\\site-packages (from mypy) (3.10.0.2)\n",
      "Requirement already satisfied: mypy-extensions<0.5.0,>=0.4.3 in c:\\users\\chinhwee\\anaconda3\\envs\\python3.10\\lib\\site-packages (from mypy) (0.4.3)\n",
      "Requirement already satisfied: toml in c:\\users\\chinhwee\\anaconda3\\envs\\python3.10\\lib\\site-packages (from mypy) (0.10.2)\n"
     ]
    }
   ],
   "source": [
    "# Simple mypy cell magic for Colab\n",
    "!pip install mypy\n",
    "from IPython.core.magic import register_cell_magic\n",
    "from IPython import get_ipython\n",
    "from mypy import api\n",
    "\n",
    "@register_cell_magic\n",
    "def mypy(line, cell):\n",
    "  for output in api.run(['-c', '\\n' + cell] + line.split()):\n",
    "    if output and not output.startswith('Success'):\n",
    "      raise TypeError(output)\n",
    "  get_ipython().run_cell(cell)"
   ]
  },
  {
   "cell_type": "code",
   "execution_count": 13,
   "metadata": {
    "colab": {
     "base_uri": "https://localhost:8080/",
     "height": 327
    },
    "id": "8fqndzHz6obL",
    "outputId": "e31ff599-5a11-4df6-dc92-0632a33a3923"
   },
   "outputs": [
    {
     "ename": "TypeError",
     "evalue": "<string>:9: error: Argument 1 to \"compute_margin\" has incompatible type \"str\"; expected \"float\"\nFound 1 error in 1 file (checked 1 source file)\n",
     "output_type": "error",
     "traceback": [
      "\u001b[1;31m---------------------------------------------------------------------------\u001b[0m",
      "\u001b[1;31mTypeError\u001b[0m                                 Traceback (most recent call last)",
      "\u001b[1;32m~\\AppData\\Local\\Temp/ipykernel_23960/195080318.py\u001b[0m in \u001b[0;36m<module>\u001b[1;34m\u001b[0m\n\u001b[1;32m----> 1\u001b[1;33m \u001b[0mget_ipython\u001b[0m\u001b[1;33m(\u001b[0m\u001b[1;33m)\u001b[0m\u001b[1;33m.\u001b[0m\u001b[0mrun_cell_magic\u001b[0m\u001b[1;33m(\u001b[0m\u001b[1;34m'mypy'\u001b[0m\u001b[1;33m,\u001b[0m \u001b[1;34m''\u001b[0m\u001b[1;33m,\u001b[0m \u001b[1;34m'\\ndef compute_margin(revenue: float, unit_cost: float, quantity: int) -> float:\\n  \\'\\'\\'\\n  Compute gross margin of products sold\\n  \\'\\'\\'\\n  return revenue - (unit_cost * quantity)\\n\\ncompute_margin(\"100.0\", 5.0, 10)\\n'\u001b[0m\u001b[1;33m)\u001b[0m\u001b[1;33m\u001b[0m\u001b[1;33m\u001b[0m\u001b[0m\n\u001b[0m",
      "\u001b[1;32m~\\Anaconda3\\envs\\python3.10\\lib\\site-packages\\IPython\\core\\interactiveshell.py\u001b[0m in \u001b[0;36mrun_cell_magic\u001b[1;34m(self, magic_name, line, cell)\u001b[0m\n\u001b[0;32m   2404\u001b[0m             \u001b[1;32mwith\u001b[0m \u001b[0mself\u001b[0m\u001b[1;33m.\u001b[0m\u001b[0mbuiltin_trap\u001b[0m\u001b[1;33m:\u001b[0m\u001b[1;33m\u001b[0m\u001b[1;33m\u001b[0m\u001b[0m\n\u001b[0;32m   2405\u001b[0m                 \u001b[0margs\u001b[0m \u001b[1;33m=\u001b[0m \u001b[1;33m(\u001b[0m\u001b[0mmagic_arg_s\u001b[0m\u001b[1;33m,\u001b[0m \u001b[0mcell\u001b[0m\u001b[1;33m)\u001b[0m\u001b[1;33m\u001b[0m\u001b[1;33m\u001b[0m\u001b[0m\n\u001b[1;32m-> 2406\u001b[1;33m                 \u001b[0mresult\u001b[0m \u001b[1;33m=\u001b[0m \u001b[0mfn\u001b[0m\u001b[1;33m(\u001b[0m\u001b[1;33m*\u001b[0m\u001b[0margs\u001b[0m\u001b[1;33m,\u001b[0m \u001b[1;33m**\u001b[0m\u001b[0mkwargs\u001b[0m\u001b[1;33m)\u001b[0m\u001b[1;33m\u001b[0m\u001b[1;33m\u001b[0m\u001b[0m\n\u001b[0m\u001b[0;32m   2407\u001b[0m             \u001b[1;32mreturn\u001b[0m \u001b[0mresult\u001b[0m\u001b[1;33m\u001b[0m\u001b[1;33m\u001b[0m\u001b[0m\n\u001b[0;32m   2408\u001b[0m \u001b[1;33m\u001b[0m\u001b[0m\n",
      "\u001b[1;32m~\\AppData\\Local\\Temp/ipykernel_23960/1815512232.py\u001b[0m in \u001b[0;36mmypy\u001b[1;34m(line, cell)\u001b[0m\n\u001b[0;32m      9\u001b[0m   \u001b[1;32mfor\u001b[0m \u001b[0moutput\u001b[0m \u001b[1;32min\u001b[0m \u001b[0mapi\u001b[0m\u001b[1;33m.\u001b[0m\u001b[0mrun\u001b[0m\u001b[1;33m(\u001b[0m\u001b[1;33m[\u001b[0m\u001b[1;34m'-c'\u001b[0m\u001b[1;33m,\u001b[0m \u001b[1;34m'\\n'\u001b[0m \u001b[1;33m+\u001b[0m \u001b[0mcell\u001b[0m\u001b[1;33m]\u001b[0m \u001b[1;33m+\u001b[0m \u001b[0mline\u001b[0m\u001b[1;33m.\u001b[0m\u001b[0msplit\u001b[0m\u001b[1;33m(\u001b[0m\u001b[1;33m)\u001b[0m\u001b[1;33m)\u001b[0m\u001b[1;33m:\u001b[0m\u001b[1;33m\u001b[0m\u001b[1;33m\u001b[0m\u001b[0m\n\u001b[0;32m     10\u001b[0m     \u001b[1;32mif\u001b[0m \u001b[0moutput\u001b[0m \u001b[1;32mand\u001b[0m \u001b[1;32mnot\u001b[0m \u001b[0moutput\u001b[0m\u001b[1;33m.\u001b[0m\u001b[0mstartswith\u001b[0m\u001b[1;33m(\u001b[0m\u001b[1;34m'Success'\u001b[0m\u001b[1;33m)\u001b[0m\u001b[1;33m:\u001b[0m\u001b[1;33m\u001b[0m\u001b[1;33m\u001b[0m\u001b[0m\n\u001b[1;32m---> 11\u001b[1;33m       \u001b[1;32mraise\u001b[0m \u001b[0mTypeError\u001b[0m\u001b[1;33m(\u001b[0m\u001b[0moutput\u001b[0m\u001b[1;33m)\u001b[0m\u001b[1;33m\u001b[0m\u001b[1;33m\u001b[0m\u001b[0m\n\u001b[0m\u001b[0;32m     12\u001b[0m   \u001b[0mget_ipython\u001b[0m\u001b[1;33m(\u001b[0m\u001b[1;33m)\u001b[0m\u001b[1;33m.\u001b[0m\u001b[0mrun_cell\u001b[0m\u001b[1;33m(\u001b[0m\u001b[0mcell\u001b[0m\u001b[1;33m)\u001b[0m\u001b[1;33m\u001b[0m\u001b[1;33m\u001b[0m\u001b[0m\n",
      "\u001b[1;31mTypeError\u001b[0m: <string>:9: error: Argument 1 to \"compute_margin\" has incompatible type \"str\"; expected \"float\"\nFound 1 error in 1 file (checked 1 source file)\n"
     ]
    }
   ],
   "source": [
    "%%mypy\n",
    "\n",
    "def compute_margin(revenue: float, unit_cost: float, quantity: int) -> float:\n",
    "  '''\n",
    "  Compute gross margin of products sold\n",
    "  '''\n",
    "  return revenue - (unit_cost * quantity)\n",
    "\n",
    "compute_margin(\"100.0\", 5.0, 10)"
   ]
  },
  {
   "cell_type": "markdown",
   "metadata": {
    "id": "g3hjFRixxCvV"
   },
   "source": [
    "## Functional Core, Imperative Shell"
   ]
  },
  {
   "cell_type": "markdown",
   "metadata": {
    "id": "Mw48Uyxr27h-"
   },
   "source": [
    "Let's generate some fake data first:"
   ]
  },
  {
   "cell_type": "code",
   "execution_count": 14,
   "metadata": {
    "colab": {
     "base_uri": "https://localhost:8080/"
    },
    "id": "anU6X4nhyWJ3",
    "outputId": "bc5f4f8f-978d-44b2-e30b-2597e485693c"
   },
   "outputs": [
    {
     "name": "stdout",
     "output_type": "stream",
     "text": [
      "Requirement already satisfied: faker in c:\\users\\chinhwee\\anaconda3\\envs\\python3.10\\lib\\site-packages (9.5.2)\n",
      "Requirement already satisfied: python-dateutil>=2.4 in c:\\users\\chinhwee\\anaconda3\\envs\\python3.10\\lib\\site-packages (from faker) (2.8.2)\n",
      "Requirement already satisfied: text-unidecode==1.3 in c:\\users\\chinhwee\\anaconda3\\envs\\python3.10\\lib\\site-packages (from faker) (1.3)\n",
      "Requirement already satisfied: six>=1.5 in c:\\users\\chinhwee\\anaconda3\\envs\\python3.10\\lib\\site-packages (from python-dateutil>=2.4->faker) (1.16.0)\n"
     ]
    }
   ],
   "source": [
    "!pip install faker"
   ]
  },
  {
   "cell_type": "code",
   "execution_count": 15,
   "metadata": {},
   "outputs": [],
   "source": [
    "import os\n",
    "from faker import Faker\n",
    "import pandas as pd"
   ]
  },
  {
   "cell_type": "code",
   "execution_count": 16,
   "metadata": {
    "id": "4mtR_92r2pvv"
   },
   "outputs": [
    {
     "name": "stdout",
     "output_type": "stream",
     "text": [
      "Input file exists\n"
     ]
    }
   ],
   "source": [
    "if os.path.isfile('data/sales.csv'):\n",
    "    print(\"Input file exists\")\n",
    "else:\n",
    "    fake = Faker()\n",
    "    sales = {fake.company(): [fake.pyfloat(right_digits=2, min_value=0, max_value=1000), fake.pyint(min_value=0, max_value=100)] for _ in range(100)}\n",
    "    price_df = pd.DataFrame.from_dict(sales, orient=\"index\", columns=[\"price\", \"qty\"])\n",
    "    output_df = price_df.reset_index().rename(columns={\"index\": \"company\"})\n",
    "    output_df.to_csv(\"data/sales.csv\")"
   ]
  },
  {
   "cell_type": "code",
   "execution_count": 17,
   "metadata": {
    "id": "-k_k6jrCxHR2"
   },
   "outputs": [],
   "source": [
    "def compute_revenue(sales_item: list) -> float:\n",
    "  price, qty = sales_item[1], sales_item[2]\n",
    "  return [sales_item[0], price, qty, price * qty]\n",
    "\n",
    "def main():\n",
    "  # import modules\n",
    "  import pandas as pd\n",
    "  import numpy as np\n",
    "\n",
    "  # I/O layer to read data into program\n",
    "  data = pd.read_csv('data/sales.csv', index_col=0)\n",
    "  data_cols = data.columns.tolist()\n",
    "\n",
    "  # Functional layer for computation logic\n",
    "  data_array = data.to_numpy()\n",
    "  revenue_array = list(map(compute_revenue, data_array))\n",
    "  revenue_cols = data_cols + ['revenue']\n",
    "  revenue_df = pd.DataFrame(revenue_array, columns=revenue_cols)\n",
    "\n",
    "  # I/O layer to write data outside of program\n",
    "  revenue_df.to_csv('data/revenue.csv', index=False)"
   ]
  },
  {
   "cell_type": "code",
   "execution_count": 18,
   "metadata": {},
   "outputs": [],
   "source": [
    "main()"
   ]
  },
  {
   "cell_type": "code",
   "execution_count": 19,
   "metadata": {
    "colab": {
     "base_uri": "https://localhost:8080/",
     "height": 424
    },
    "id": "PCWPKAau8mfJ",
    "outputId": "28066174-87c7-4bfa-c247-23b79d046689"
   },
   "outputs": [
    {
     "data": {
      "text/html": [
       "<div>\n",
       "<style scoped>\n",
       "    .dataframe tbody tr th:only-of-type {\n",
       "        vertical-align: middle;\n",
       "    }\n",
       "\n",
       "    .dataframe tbody tr th {\n",
       "        vertical-align: top;\n",
       "    }\n",
       "\n",
       "    .dataframe thead th {\n",
       "        text-align: right;\n",
       "    }\n",
       "</style>\n",
       "<table border=\"1\" class=\"dataframe\">\n",
       "  <thead>\n",
       "    <tr style=\"text-align: right;\">\n",
       "      <th></th>\n",
       "      <th>price</th>\n",
       "      <th>qty</th>\n",
       "      <th>revenue</th>\n",
       "    </tr>\n",
       "    <tr>\n",
       "      <th>company</th>\n",
       "      <th></th>\n",
       "      <th></th>\n",
       "      <th></th>\n",
       "    </tr>\n",
       "  </thead>\n",
       "  <tbody>\n",
       "    <tr>\n",
       "      <th>Carey, Duran and Hernandez</th>\n",
       "      <td>631.16</td>\n",
       "      <td>41</td>\n",
       "      <td>25877.56</td>\n",
       "    </tr>\n",
       "    <tr>\n",
       "      <th>Wade-Mercer</th>\n",
       "      <td>425.98</td>\n",
       "      <td>62</td>\n",
       "      <td>26410.76</td>\n",
       "    </tr>\n",
       "    <tr>\n",
       "      <th>Roberts, Walker and Mills</th>\n",
       "      <td>434.98</td>\n",
       "      <td>18</td>\n",
       "      <td>7829.64</td>\n",
       "    </tr>\n",
       "    <tr>\n",
       "      <th>Walker and Sons</th>\n",
       "      <td>870.54</td>\n",
       "      <td>98</td>\n",
       "      <td>85312.92</td>\n",
       "    </tr>\n",
       "    <tr>\n",
       "      <th>Acevedo, Casey and Zuniga</th>\n",
       "      <td>757.31</td>\n",
       "      <td>96</td>\n",
       "      <td>72701.76</td>\n",
       "    </tr>\n",
       "    <tr>\n",
       "      <th>...</th>\n",
       "      <td>...</td>\n",
       "      <td>...</td>\n",
       "      <td>...</td>\n",
       "    </tr>\n",
       "    <tr>\n",
       "      <th>Duncan-Salas</th>\n",
       "      <td>875.72</td>\n",
       "      <td>26</td>\n",
       "      <td>22768.72</td>\n",
       "    </tr>\n",
       "    <tr>\n",
       "      <th>Moore-Lee</th>\n",
       "      <td>196.47</td>\n",
       "      <td>21</td>\n",
       "      <td>4125.87</td>\n",
       "    </tr>\n",
       "    <tr>\n",
       "      <th>Davenport and Sons</th>\n",
       "      <td>181.84</td>\n",
       "      <td>77</td>\n",
       "      <td>14001.68</td>\n",
       "    </tr>\n",
       "    <tr>\n",
       "      <th>Marshall LLC</th>\n",
       "      <td>271.66</td>\n",
       "      <td>34</td>\n",
       "      <td>9236.44</td>\n",
       "    </tr>\n",
       "    <tr>\n",
       "      <th>Smith PLC</th>\n",
       "      <td>643.41</td>\n",
       "      <td>3</td>\n",
       "      <td>1930.23</td>\n",
       "    </tr>\n",
       "  </tbody>\n",
       "</table>\n",
       "<p>100 rows × 3 columns</p>\n",
       "</div>"
      ],
      "text/plain": [
       "                             price  qty   revenue\n",
       "company                                          \n",
       "Carey, Duran and Hernandez  631.16   41  25877.56\n",
       "Wade-Mercer                 425.98   62  26410.76\n",
       "Roberts, Walker and Mills   434.98   18   7829.64\n",
       "Walker and Sons             870.54   98  85312.92\n",
       "Acevedo, Casey and Zuniga   757.31   96  72701.76\n",
       "...                            ...  ...       ...\n",
       "Duncan-Salas                875.72   26  22768.72\n",
       "Moore-Lee                   196.47   21   4125.87\n",
       "Davenport and Sons          181.84   77  14001.68\n",
       "Marshall LLC                271.66   34   9236.44\n",
       "Smith PLC                   643.41    3   1930.23\n",
       "\n",
       "[100 rows x 3 columns]"
      ]
     },
     "execution_count": 19,
     "metadata": {},
     "output_type": "execute_result"
    }
   ],
   "source": [
    "pd.read_csv('data/revenue.csv', index_col=0)"
   ]
  }
 ],
 "metadata": {
  "colab": {
   "collapsed_sections": [],
   "name": "Designing Functional Data Pipelines in Python.ipynb",
   "provenance": []
  },
  "interpreter": {
   "hash": "1fcd377dfabf0388c9665744deaadb71caa4ee44690667972b42e8d4f663065c"
  },
  "kernelspec": {
   "display_name": "Python 3.10.0 64-bit ('python3.10': conda)",
   "name": "python3"
  },
  "language_info": {
   "codemirror_mode": {
    "name": "ipython",
    "version": 3
   },
   "file_extension": ".py",
   "mimetype": "text/x-python",
   "name": "python",
   "nbconvert_exporter": "python",
   "pygments_lexer": "ipython3",
   "version": "3.10.0"
  }
 },
 "nbformat": 4,
 "nbformat_minor": 1
}
